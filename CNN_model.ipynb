{
 "cells": [
  {
   "cell_type": "code",
   "execution_count": 353,
   "metadata": {},
   "outputs": [],
   "source": [
    "import re \n",
    "import pandas as pd  \n",
    "import numpy as np\n",
    "from time import time  \n",
    "import torch\n",
    "import string\n",
    "from nltk.corpus import stopwords\n",
    "from nltk.stem.snowball import PorterStemmer\n",
    "from nltk.tokenize import word_tokenize\n",
    "from collections import defaultdict  \n",
    "from sklearn.model_selection import train_test_split\n",
    "from sklearn import preprocessing\n",
    "from keras.utils import to_categorical\n",
    "from keras.layers import Dense, Dropout, Conv1D, Embedding, MaxPooling1D, Flatten,GlobalMaxPooling1D,GlobalMaxPool1D\n",
    "from keras.preprocessing.text import Tokenizer\n",
    "from keras.utils import pad_sequences\n",
    "from keras.models import Sequential\n",
    "import spacy  \n",
    "\n",
    "import logging  \n",
    "logging.basicConfig(format=\"%(levelname)s - %(asctime)s: %(message)s\", datefmt= '%H:%M:%S', level=logging.INFO)"
   ]
  },
  {
   "attachments": {},
   "cell_type": "markdown",
   "metadata": {},
   "source": [
    "## 1. Read data"
   ]
  },
  {
   "cell_type": "code",
   "execution_count": 170,
   "metadata": {},
   "outputs": [],
   "source": [
    "# read train data\n",
    "train_data=pd.read_csv(\"train.csv\")\n",
    "# read test data\n",
    "test_data=pd.read_csv(\"test.csv\")"
   ]
  },
  {
   "cell_type": "code",
   "execution_count": 171,
   "metadata": {},
   "outputs": [
    {
     "data": {
      "text/html": [
       "<div>\n",
       "<style scoped>\n",
       "    .dataframe tbody tr th:only-of-type {\n",
       "        vertical-align: middle;\n",
       "    }\n",
       "\n",
       "    .dataframe tbody tr th {\n",
       "        vertical-align: top;\n",
       "    }\n",
       "\n",
       "    .dataframe thead th {\n",
       "        text-align: right;\n",
       "    }\n",
       "</style>\n",
       "<table border=\"1\" class=\"dataframe\">\n",
       "  <thead>\n",
       "    <tr style=\"text-align: right;\">\n",
       "      <th></th>\n",
       "      <th>id</th>\n",
       "      <th>keyword</th>\n",
       "      <th>location</th>\n",
       "      <th>text</th>\n",
       "      <th>target</th>\n",
       "    </tr>\n",
       "  </thead>\n",
       "  <tbody>\n",
       "    <tr>\n",
       "      <th>0</th>\n",
       "      <td>1</td>\n",
       "      <td>NaN</td>\n",
       "      <td>NaN</td>\n",
       "      <td>Our Deeds are the Reason of this #earthquake M...</td>\n",
       "      <td>1</td>\n",
       "    </tr>\n",
       "    <tr>\n",
       "      <th>1</th>\n",
       "      <td>4</td>\n",
       "      <td>NaN</td>\n",
       "      <td>NaN</td>\n",
       "      <td>Forest fire near La Ronge Sask. Canada</td>\n",
       "      <td>1</td>\n",
       "    </tr>\n",
       "    <tr>\n",
       "      <th>2</th>\n",
       "      <td>5</td>\n",
       "      <td>NaN</td>\n",
       "      <td>NaN</td>\n",
       "      <td>All residents asked to 'shelter in place' are ...</td>\n",
       "      <td>1</td>\n",
       "    </tr>\n",
       "    <tr>\n",
       "      <th>3</th>\n",
       "      <td>6</td>\n",
       "      <td>NaN</td>\n",
       "      <td>NaN</td>\n",
       "      <td>13,000 people receive #wildfires evacuation or...</td>\n",
       "      <td>1</td>\n",
       "    </tr>\n",
       "    <tr>\n",
       "      <th>4</th>\n",
       "      <td>7</td>\n",
       "      <td>NaN</td>\n",
       "      <td>NaN</td>\n",
       "      <td>Just got sent this photo from Ruby #Alaska as ...</td>\n",
       "      <td>1</td>\n",
       "    </tr>\n",
       "  </tbody>\n",
       "</table>\n",
       "</div>"
      ],
      "text/plain": [
       "   id keyword location                                               text  \\\n",
       "0   1     NaN      NaN  Our Deeds are the Reason of this #earthquake M...   \n",
       "1   4     NaN      NaN             Forest fire near La Ronge Sask. Canada   \n",
       "2   5     NaN      NaN  All residents asked to 'shelter in place' are ...   \n",
       "3   6     NaN      NaN  13,000 people receive #wildfires evacuation or...   \n",
       "4   7     NaN      NaN  Just got sent this photo from Ruby #Alaska as ...   \n",
       "\n",
       "   target  \n",
       "0       1  \n",
       "1       1  \n",
       "2       1  \n",
       "3       1  \n",
       "4       1  "
      ]
     },
     "execution_count": 171,
     "metadata": {},
     "output_type": "execute_result"
    }
   ],
   "source": [
    "train_data.head()"
   ]
  },
  {
   "cell_type": "code",
   "execution_count": 172,
   "metadata": {},
   "outputs": [
    {
     "data": {
      "text/html": [
       "<div>\n",
       "<style scoped>\n",
       "    .dataframe tbody tr th:only-of-type {\n",
       "        vertical-align: middle;\n",
       "    }\n",
       "\n",
       "    .dataframe tbody tr th {\n",
       "        vertical-align: top;\n",
       "    }\n",
       "\n",
       "    .dataframe thead th {\n",
       "        text-align: right;\n",
       "    }\n",
       "</style>\n",
       "<table border=\"1\" class=\"dataframe\">\n",
       "  <thead>\n",
       "    <tr style=\"text-align: right;\">\n",
       "      <th></th>\n",
       "      <th>id</th>\n",
       "      <th>keyword</th>\n",
       "      <th>location</th>\n",
       "      <th>text</th>\n",
       "    </tr>\n",
       "  </thead>\n",
       "  <tbody>\n",
       "    <tr>\n",
       "      <th>0</th>\n",
       "      <td>0</td>\n",
       "      <td>NaN</td>\n",
       "      <td>NaN</td>\n",
       "      <td>Just happened a terrible car crash</td>\n",
       "    </tr>\n",
       "    <tr>\n",
       "      <th>1</th>\n",
       "      <td>2</td>\n",
       "      <td>NaN</td>\n",
       "      <td>NaN</td>\n",
       "      <td>Heard about #earthquake is different cities, s...</td>\n",
       "    </tr>\n",
       "    <tr>\n",
       "      <th>2</th>\n",
       "      <td>3</td>\n",
       "      <td>NaN</td>\n",
       "      <td>NaN</td>\n",
       "      <td>there is a forest fire at spot pond, geese are...</td>\n",
       "    </tr>\n",
       "    <tr>\n",
       "      <th>3</th>\n",
       "      <td>9</td>\n",
       "      <td>NaN</td>\n",
       "      <td>NaN</td>\n",
       "      <td>Apocalypse lighting. #Spokane #wildfires</td>\n",
       "    </tr>\n",
       "    <tr>\n",
       "      <th>4</th>\n",
       "      <td>11</td>\n",
       "      <td>NaN</td>\n",
       "      <td>NaN</td>\n",
       "      <td>Typhoon Soudelor kills 28 in China and Taiwan</td>\n",
       "    </tr>\n",
       "  </tbody>\n",
       "</table>\n",
       "</div>"
      ],
      "text/plain": [
       "   id keyword location                                               text\n",
       "0   0     NaN      NaN                 Just happened a terrible car crash\n",
       "1   2     NaN      NaN  Heard about #earthquake is different cities, s...\n",
       "2   3     NaN      NaN  there is a forest fire at spot pond, geese are...\n",
       "3   9     NaN      NaN           Apocalypse lighting. #Spokane #wildfires\n",
       "4  11     NaN      NaN      Typhoon Soudelor kills 28 in China and Taiwan"
      ]
     },
     "execution_count": 172,
     "metadata": {},
     "output_type": "execute_result"
    }
   ],
   "source": [
    "test_data.head()"
   ]
  },
  {
   "cell_type": "code",
   "execution_count": 255,
   "metadata": {},
   "outputs": [
    {
     "data": {
      "text/html": [
       "<div>\n",
       "<style scoped>\n",
       "    .dataframe tbody tr th:only-of-type {\n",
       "        vertical-align: middle;\n",
       "    }\n",
       "\n",
       "    .dataframe tbody tr th {\n",
       "        vertical-align: top;\n",
       "    }\n",
       "\n",
       "    .dataframe thead th {\n",
       "        text-align: right;\n",
       "    }\n",
       "</style>\n",
       "<table border=\"1\" class=\"dataframe\">\n",
       "  <thead>\n",
       "    <tr style=\"text-align: right;\">\n",
       "      <th></th>\n",
       "      <th>id</th>\n",
       "      <th>keyword</th>\n",
       "      <th>location</th>\n",
       "      <th>text</th>\n",
       "    </tr>\n",
       "  </thead>\n",
       "  <tbody>\n",
       "    <tr>\n",
       "      <th>0</th>\n",
       "      <td>1</td>\n",
       "      <td></td>\n",
       "      <td></td>\n",
       "      <td>Our Deeds are the Reason of this #earthquake M...</td>\n",
       "    </tr>\n",
       "    <tr>\n",
       "      <th>1</th>\n",
       "      <td>4</td>\n",
       "      <td></td>\n",
       "      <td></td>\n",
       "      <td>Forest fire near La Ronge Sask. Canada</td>\n",
       "    </tr>\n",
       "    <tr>\n",
       "      <th>2</th>\n",
       "      <td>5</td>\n",
       "      <td></td>\n",
       "      <td></td>\n",
       "      <td>All residents asked to 'shelter in place' are ...</td>\n",
       "    </tr>\n",
       "    <tr>\n",
       "      <th>3</th>\n",
       "      <td>6</td>\n",
       "      <td></td>\n",
       "      <td></td>\n",
       "      <td>13,000 people receive #wildfires evacuation or...</td>\n",
       "    </tr>\n",
       "    <tr>\n",
       "      <th>4</th>\n",
       "      <td>7</td>\n",
       "      <td></td>\n",
       "      <td></td>\n",
       "      <td>Just got sent this photo from Ruby #Alaska as ...</td>\n",
       "    </tr>\n",
       "    <tr>\n",
       "      <th>...</th>\n",
       "      <td>...</td>\n",
       "      <td>...</td>\n",
       "      <td>...</td>\n",
       "      <td>...</td>\n",
       "    </tr>\n",
       "    <tr>\n",
       "      <th>3258</th>\n",
       "      <td>10861</td>\n",
       "      <td></td>\n",
       "      <td></td>\n",
       "      <td>EARTHQUAKE SAFETY LOS ANGELES ÛÒ SAFETY FASTE...</td>\n",
       "    </tr>\n",
       "    <tr>\n",
       "      <th>3259</th>\n",
       "      <td>10865</td>\n",
       "      <td></td>\n",
       "      <td></td>\n",
       "      <td>Storm in RI worse than last hurricane. My city...</td>\n",
       "    </tr>\n",
       "    <tr>\n",
       "      <th>3260</th>\n",
       "      <td>10868</td>\n",
       "      <td></td>\n",
       "      <td></td>\n",
       "      <td>Green Line derailment in Chicago http://t.co/U...</td>\n",
       "    </tr>\n",
       "    <tr>\n",
       "      <th>3261</th>\n",
       "      <td>10874</td>\n",
       "      <td></td>\n",
       "      <td></td>\n",
       "      <td>MEG issues Hazardous Weather Outlook (HWO) htt...</td>\n",
       "    </tr>\n",
       "    <tr>\n",
       "      <th>3262</th>\n",
       "      <td>10875</td>\n",
       "      <td></td>\n",
       "      <td></td>\n",
       "      <td>#CityofCalgary has activated its Municipal Eme...</td>\n",
       "    </tr>\n",
       "  </tbody>\n",
       "</table>\n",
       "<p>10876 rows × 4 columns</p>\n",
       "</div>"
      ],
      "text/plain": [
       "         id keyword location  \\\n",
       "0         1                    \n",
       "1         4                    \n",
       "2         5                    \n",
       "3         6                    \n",
       "4         7                    \n",
       "...     ...     ...      ...   \n",
       "3258  10861                    \n",
       "3259  10865                    \n",
       "3260  10868                    \n",
       "3261  10874                    \n",
       "3262  10875                    \n",
       "\n",
       "                                                   text  \n",
       "0     Our Deeds are the Reason of this #earthquake M...  \n",
       "1                Forest fire near La Ronge Sask. Canada  \n",
       "2     All residents asked to 'shelter in place' are ...  \n",
       "3     13,000 people receive #wildfires evacuation or...  \n",
       "4     Just got sent this photo from Ruby #Alaska as ...  \n",
       "...                                                 ...  \n",
       "3258  EARTHQUAKE SAFETY LOS ANGELES ÛÒ SAFETY FASTE...  \n",
       "3259  Storm in RI worse than last hurricane. My city...  \n",
       "3260  Green Line derailment in Chicago http://t.co/U...  \n",
       "3261  MEG issues Hazardous Weather Outlook (HWO) htt...  \n",
       "3262  #CityofCalgary has activated its Municipal Eme...  \n",
       "\n",
       "[10876 rows x 4 columns]"
      ]
     },
     "execution_count": 255,
     "metadata": {},
     "output_type": "execute_result"
    }
   ],
   "source": [
    "voca_train=train_data.drop(['target'],axis=1)\n",
    "voca=pd.concat([voca_train,test_data])\n",
    "voca"
   ]
  },
  {
   "attachments": {},
   "cell_type": "markdown",
   "metadata": {},
   "source": [
    "## 2. Preprocessing"
   ]
  },
  {
   "cell_type": "code",
   "execution_count": 294,
   "metadata": {},
   "outputs": [],
   "source": [
    "def join_col_test(data:pd.DataFrame):\n",
    "    text=[]\n",
    "    id=[]\n",
    "    for index, row in data.iterrows():\n",
    "        x=str(row[\"keyword\"])+\" \" + str(row[\"location\"]) + \" \" + row[\"text\"]\n",
    "        text.append(x)\n",
    "        id.append(row['id'])\n",
    "    return {'id':id,'text':text}"
   ]
  },
  {
   "cell_type": "code",
   "execution_count": 295,
   "metadata": {},
   "outputs": [],
   "source": [
    "def join_col_train(data:pd.DataFrame):\n",
    "    text=[]\n",
    "    label=[]\n",
    "    for index, row in data.iterrows():\n",
    "        x=str(row[\"keyword\"])+\" \" + str(row[\"location\"]) + \" \" + row[\"text\"]\n",
    "        text.append(x)\n",
    "        label.append(row['target'])\n",
    "    return {'text':text,'label':label}"
   ]
  },
  {
   "cell_type": "code",
   "execution_count": 296,
   "metadata": {},
   "outputs": [],
   "source": [
    "def preprocess_text(sen):\n",
    "    # Remove punctuations and numbers\n",
    "    sentence = re.sub('[^a-zA-Z]', ' ', sen)\n",
    "\n",
    "    # Single character removal\n",
    "    sentence = re.sub(r\"\\s+[a-zA-Z]\\s+\", ' ', sentence)\n",
    "\n",
    "    # Removing multiple spaces\n",
    "    sentence = re.sub(r'\\s+', ' ', sentence)\n",
    "    \n",
    "    stops = stopwords.words('english')\n",
    "    #print(stops)\n",
    "    porter = PorterStemmer()\n",
    "    for word in sentence.split():\n",
    "        if word in stops:\n",
    "            sentence = sentence.replace(word, '')\n",
    "        sentence = sentence.replace(word, porter.stem(word))\n",
    "    return sentence.lower()"
   ]
  },
  {
   "cell_type": "code",
   "execution_count": 297,
   "metadata": {},
   "outputs": [],
   "source": [
    "# Convert NaN values ​​to empty strings\n",
    "train_data=train_data.fillna(\"\")\n",
    "test_data=test_data.fillna(\"\")\n",
    "voca=voca.fillna(\"\")"
   ]
  },
  {
   "cell_type": "code",
   "execution_count": 316,
   "metadata": {},
   "outputs": [],
   "source": [
    "new_train_data=pd.DataFrame(join_col_train(train_data))\n",
    "new_test_data=pd.DataFrame(join_col_test(test_data))\n",
    "new_voca=pd.DataFrame(join_col_test(voca))"
   ]
  },
  {
   "cell_type": "code",
   "execution_count": 317,
   "metadata": {},
   "outputs": [],
   "source": [
    "new_test_data['text']=new_test_data['text'].apply(preprocess_text)\n",
    "new_train_data['text']=new_train_data['text'].apply(preprocess_text)\n",
    "new_voca['text']=new_voca['text'].apply(preprocess_text)"
   ]
  },
  {
   "cell_type": "code",
   "execution_count": 318,
   "metadata": {},
   "outputs": [],
   "source": [
    "X_train, X_valid, y_train, y_valid = train_test_split(new_train_data['text'], new_train_data['label'], test_size=0.2, random_state=42)"
   ]
  },
  {
   "cell_type": "code",
   "execution_count": 319,
   "metadata": {},
   "outputs": [],
   "source": [
    "new_voca=new_voca['text']"
   ]
  },
  {
   "attachments": {},
   "cell_type": "markdown",
   "metadata": {},
   "source": [
    "## 3. Train word2vec model"
   ]
  },
  {
   "cell_type": "code",
   "execution_count": 320,
   "metadata": {},
   "outputs": [],
   "source": [
    "from gensim.models import Word2Vec"
   ]
  },
  {
   "cell_type": "code",
   "execution_count": 321,
   "metadata": {},
   "outputs": [],
   "source": [
    "tokenizer = Tokenizer()\n",
    "tokenizer.fit_on_texts(new_voca)"
   ]
  },
  {
   "cell_type": "code",
   "execution_count": 322,
   "metadata": {},
   "outputs": [],
   "source": [
    "X_train = tokenizer.texts_to_sequences(X_train)\n",
    "X_valid = tokenizer.texts_to_sequences(X_valid)\n",
    "vocab=tokenizer.texts_to_sequences(new_voca)"
   ]
  },
  {
   "cell_type": "code",
   "execution_count": 339,
   "metadata": {},
   "outputs": [
    {
     "data": {
      "text/plain": [
       "28679"
      ]
     },
     "execution_count": 339,
     "metadata": {},
     "output_type": "execute_result"
    }
   ],
   "source": [
    "vocab_size = len(tokenizer.word_index) + 1\n",
    "vocab_size"
   ]
  },
  {
   "cell_type": "code",
   "execution_count": 325,
   "metadata": {},
   "outputs": [],
   "source": [
    "max_length = 100\n",
    "X_train = pad_sequences(X_train, maxlen=max_length, padding='post')\n",
    "X_valid = pad_sequences(X_valid, maxlen=max_length, padding='post')\n",
    "vocab=pad_sequences(vocab, maxlen=max_length, padding='post')"
   ]
  },
  {
   "cell_type": "code",
   "execution_count": 330,
   "metadata": {},
   "outputs": [],
   "source": [
    "sentences = [sentence.split() for sentence in new_voca]"
   ]
  },
  {
   "cell_type": "code",
   "execution_count": 333,
   "metadata": {},
   "outputs": [
    {
     "name": "stderr",
     "output_type": "stream",
     "text": [
      "INFO - 22:48:33: collecting all words and their counts\n",
      "INFO - 22:48:33: PROGRESS: at sentence #0, processed 0 words, keeping 0 word types\n",
      "INFO - 22:48:33: PROGRESS: at sentence #10000, processed 145675 words, keeping 27069 word types\n",
      "INFO - 22:48:33: collected 28678 word types from a corpus of 158523 raw words and 10876 sentences\n",
      "INFO - 22:48:33: Creating a fresh vocabulary\n",
      "INFO - 22:48:34: Word2Vec lifecycle event {'msg': 'effective_min_count=1 retains 28678 unique words (100.00% of original 28678, drops 0)', 'datetime': '2023-05-16T22:48:34.057190', 'gensim': '4.3.1', 'python': '3.10.5 (tags/v3.10.5:f377153, Jun  6 2022, 16:14:13) [MSC v.1929 64 bit (AMD64)]', 'platform': 'Windows-10-10.0.19045-SP0', 'event': 'prepare_vocab'}\n",
      "INFO - 22:48:34: Word2Vec lifecycle event {'msg': 'effective_min_count=1 leaves 158523 word corpus (100.00% of original 158523, drops 0)', 'datetime': '2023-05-16T22:48:34.058198', 'gensim': '4.3.1', 'python': '3.10.5 (tags/v3.10.5:f377153, Jun  6 2022, 16:14:13) [MSC v.1929 64 bit (AMD64)]', 'platform': 'Windows-10-10.0.19045-SP0', 'event': 'prepare_vocab'}\n",
      "INFO - 22:48:34: deleting the raw counts dictionary of 28678 items\n",
      "INFO - 22:48:34: sample=6e-05 downsamples 1057 most-common words\n",
      "INFO - 22:48:34: Word2Vec lifecycle event {'msg': 'downsampling leaves estimated 98725.70791302981 word corpus (62.3%% of prior 158523)', 'datetime': '2023-05-16T22:48:34.264658', 'gensim': '4.3.1', 'python': '3.10.5 (tags/v3.10.5:f377153, Jun  6 2022, 16:14:13) [MSC v.1929 64 bit (AMD64)]', 'platform': 'Windows-10-10.0.19045-SP0', 'event': 'prepare_vocab'}\n",
      "INFO - 22:48:34: estimated required memory for 28678 words and 100 dimensions: 37281400 bytes\n",
      "INFO - 22:48:34: resetting layer weights\n",
      "INFO - 22:48:34: Word2Vec lifecycle event {'update': False, 'trim_rule': 'None', 'datetime': '2023-05-16T22:48:34.631479', 'gensim': '4.3.1', 'python': '3.10.5 (tags/v3.10.5:f377153, Jun  6 2022, 16:14:13) [MSC v.1929 64 bit (AMD64)]', 'platform': 'Windows-10-10.0.19045-SP0', 'event': 'build_vocab'}\n",
      "INFO - 22:48:34: Word2Vec lifecycle event {'msg': 'training model with 7 workers on 28678 vocabulary and 100 features, using sg=0 hs=0 sample=6e-05 negative=20 window=2 shrink_windows=True', 'datetime': '2023-05-16T22:48:34.634853', 'gensim': '4.3.1', 'python': '3.10.5 (tags/v3.10.5:f377153, Jun  6 2022, 16:14:13) [MSC v.1929 64 bit (AMD64)]', 'platform': 'Windows-10-10.0.19045-SP0', 'event': 'train'}\n",
      "INFO - 22:48:34: EPOCH 0: training on 158523 raw words (98709 effective words) took 0.2s, 649229 effective words/s\n",
      "INFO - 22:48:34: EPOCH 1: training on 158523 raw words (98865 effective words) took 0.1s, 674718 effective words/s\n",
      "INFO - 22:48:35: EPOCH 2: training on 158523 raw words (98792 effective words) took 0.1s, 697666 effective words/s\n",
      "INFO - 22:48:35: EPOCH 3: training on 158523 raw words (98670 effective words) took 0.2s, 564324 effective words/s\n",
      "INFO - 22:48:35: EPOCH 4: training on 158523 raw words (98441 effective words) took 0.2s, 644613 effective words/s\n",
      "INFO - 22:48:35: Word2Vec lifecycle event {'msg': 'training on 792615 raw words (493477 effective words) took 0.8s, 586358 effective words/s', 'datetime': '2023-05-16T22:48:35.479526', 'gensim': '4.3.1', 'python': '3.10.5 (tags/v3.10.5:f377153, Jun  6 2022, 16:14:13) [MSC v.1929 64 bit (AMD64)]', 'platform': 'Windows-10-10.0.19045-SP0', 'event': 'train'}\n",
      "INFO - 22:48:35: Word2Vec lifecycle event {'params': 'Word2Vec<vocab=28678, vector_size=100, alpha=0.03>', 'datetime': '2023-05-16T22:48:35.480525', 'gensim': '4.3.1', 'python': '3.10.5 (tags/v3.10.5:f377153, Jun  6 2022, 16:14:13) [MSC v.1929 64 bit (AMD64)]', 'platform': 'Windows-10-10.0.19045-SP0', 'event': 'created'}\n"
     ]
    }
   ],
   "source": [
    "w2v_model = Word2Vec(sentences=sentences,\n",
    "                     min_count=1,\n",
    "                     window=2,\n",
    "                     vector_size=100,\n",
    "                     sample=6e-5, \n",
    "                     alpha=0.03, \n",
    "                     min_alpha=0.0007, \n",
    "                     negative=20,\n",
    "                     workers=7)"
   ]
  },
  {
   "cell_type": "code",
   "execution_count": 336,
   "metadata": {},
   "outputs": [],
   "source": [
    "# Create a weight matrix for the embedding layer\n",
    "embedding_matrix = np.zeros((vocab_size, 100))\n",
    "for word, i in tokenizer.word_index.items():\n",
    "    if word in w2v_model.wv:\n",
    "        embedding_matrix[i] = w2v_model.wv[word]"
   ]
  },
  {
   "cell_type": "code",
   "execution_count": 195,
   "metadata": {},
   "outputs": [
    {
     "name": "stdout",
     "output_type": "stream",
     "text": [
      "Word2Vec<vocab=29005, vector_size=300, alpha=0.03>\n"
     ]
    }
   ],
   "source": [
    "print(w2v_model)"
   ]
  },
  {
   "attachments": {},
   "cell_type": "markdown",
   "metadata": {},
   "source": [
    "## CNN model"
   ]
  },
  {
   "cell_type": "code",
   "execution_count": 225,
   "metadata": {},
   "outputs": [],
   "source": [
    "\n",
    "def gensim_to_keras_embedding(model, train_embeddings=False):\n",
    "    \"\"\"Get a Keras 'Embedding' layer with weights set from Word2Vec model's learned word embeddings.\n",
    "\n",
    "    Parameters\n",
    "    ----------\n",
    "    train_embeddings : bool\n",
    "        If False, the returned weights are frozen and stopped from being updated.\n",
    "        If True, the weights can / will be further updated in Keras.\n",
    "\n",
    "    Returns\n",
    "    -------\n",
    "    `keras.layers.Embedding`\n",
    "        Embedding layer, to be used as input to deeper network layers.\n",
    "\n",
    "    \"\"\"\n",
    "    keyed_vectors = model.wv  # structure holding the result of training\n",
    "    weights = keyed_vectors.vectors  # vectors themselves, a 2D numpy array    \n",
    "    index_to_key = keyed_vectors.index_to_key  # which row in `weights` corresponds to which word?\n",
    "\n",
    "    layer = Embedding(\n",
    "        input_dim=weights.shape[0],\n",
    "        output_dim=weights.shape[1],\n",
    "        weights=[weights],\n",
    "        trainable=train_embeddings,\n",
    "    )\n",
    "    return layer"
   ]
  },
  {
   "cell_type": "code",
   "execution_count": 354,
   "metadata": {},
   "outputs": [
    {
     "name": "stdout",
     "output_type": "stream",
     "text": [
      "Model: \"sequential_17\"\n",
      "_________________________________________________________________\n",
      " Layer (type)                Output Shape              Param #   \n",
      "=================================================================\n",
      " embedding_15 (Embedding)    (None, 100, 100)          2867900   \n",
      "                                                                 \n",
      " global_max_pooling1d_8 (Glo  (None, 100)              0         \n",
      " balMaxPooling1D)                                                \n",
      "                                                                 \n",
      " dense_38 (Dense)            (None, 10)                1010      \n",
      "                                                                 \n",
      " dense_39 (Dense)            (None, 1)                 11        \n",
      "                                                                 \n",
      "=================================================================\n",
      "Total params: 2,868,921\n",
      "Trainable params: 2,868,921\n",
      "Non-trainable params: 0\n",
      "_________________________________________________________________\n"
     ]
    }
   ],
   "source": [
    "\n",
    "keras_model = Sequential()\n",
    "keras_model.add(Embedding(vocab_size, 100, weights=[embedding_matrix], input_length=max_length, trainable=True))\n",
    "\n",
    "keras_model.add(GlobalMaxPool1D())\n",
    "keras_model.add(Dense(10, activation='relu'))\n",
    "keras_model.add(Dense(1, activation='sigmoid'))\n",
    "keras_model.compile(optimizer='adam',\n",
    "              loss='binary_crossentropy',\n",
    "              metrics=['accuracy'])\n",
    "keras_model.summary()\n"
   ]
  },
  {
   "cell_type": "code",
   "execution_count": 361,
   "metadata": {},
   "outputs": [],
   "source": [
    "import matplotlib.pyplot as plt\n",
    "plt.style.use('ggplot')\n",
    "\n",
    "def plot_history(history):\n",
    "    acc = history.history['accuracy']\n",
    "    val_acc = history.history['val_accuracy']\n",
    "    loss = history.history['loss']\n",
    "    val_loss = history.history['val_loss']\n",
    "    x = range(1, len(acc) + 1)\n",
    "\n",
    "    plt.figure(figsize=(12, 5))\n",
    "    plt.subplot(1, 2, 1)\n",
    "    plt.plot(x, acc, 'b', label='Training acc')\n",
    "    plt.plot(x, val_acc, 'r', label='Validation acc')\n",
    "    plt.title('Training and validation accuracy')\n",
    "    plt.legend()\n",
    "    plt.subplot(1, 2, 2)\n",
    "    plt.plot(x, loss, 'b', label='Training loss')\n",
    "    plt.plot(x, val_loss, 'r', label='Validation loss')\n",
    "    plt.title('Training and validation loss')\n",
    "    plt.legend()"
   ]
  },
  {
   "cell_type": "code",
   "execution_count": 362,
   "metadata": {},
   "outputs": [
    {
     "name": "stdout",
     "output_type": "stream",
     "text": [
      "Epoch 1/50\n",
      "96/96 [==============================] - 4s 45ms/step - loss: 0.0056 - accuracy: 0.9975 - val_loss: 0.7088 - val_accuracy: 0.7557\n",
      "Epoch 2/50\n",
      "96/96 [==============================] - 4s 46ms/step - loss: 0.0051 - accuracy: 0.9966 - val_loss: 0.6972 - val_accuracy: 0.7584\n",
      "Epoch 3/50\n",
      "96/96 [==============================] - 5s 48ms/step - loss: 0.0053 - accuracy: 0.9975 - val_loss: 0.6812 - val_accuracy: 0.7459\n",
      "Epoch 4/50\n",
      "96/96 [==============================] - 5s 48ms/step - loss: 0.0049 - accuracy: 0.9975 - val_loss: 0.6861 - val_accuracy: 0.7498\n",
      "Epoch 5/50\n",
      "96/96 [==============================] - 4s 47ms/step - loss: 0.0051 - accuracy: 0.9975 - val_loss: 0.6849 - val_accuracy: 0.7479\n",
      "Epoch 6/50\n",
      "96/96 [==============================] - 5s 48ms/step - loss: 0.0054 - accuracy: 0.9974 - val_loss: 0.6927 - val_accuracy: 0.7518\n",
      "Epoch 7/50\n",
      "96/96 [==============================] - 5s 47ms/step - loss: 0.0053 - accuracy: 0.9970 - val_loss: 0.6893 - val_accuracy: 0.7452\n",
      "Epoch 8/50\n",
      "96/96 [==============================] - 5s 48ms/step - loss: 0.0052 - accuracy: 0.9974 - val_loss: 0.7197 - val_accuracy: 0.7177\n",
      "Epoch 9/50\n",
      "96/96 [==============================] - 5s 47ms/step - loss: 0.0053 - accuracy: 0.9974 - val_loss: 0.6963 - val_accuracy: 0.7426\n",
      "Epoch 10/50\n",
      "96/96 [==============================] - 4s 47ms/step - loss: 0.0050 - accuracy: 0.9977 - val_loss: 0.6932 - val_accuracy: 0.7485\n",
      "Epoch 11/50\n",
      "96/96 [==============================] - 5s 48ms/step - loss: 0.0051 - accuracy: 0.9969 - val_loss: 0.6940 - val_accuracy: 0.7479\n",
      "Epoch 12/50\n",
      "96/96 [==============================] - 5s 47ms/step - loss: 0.0055 - accuracy: 0.9974 - val_loss: 0.7061 - val_accuracy: 0.7413\n",
      "Epoch 13/50\n",
      "96/96 [==============================] - 5s 49ms/step - loss: 0.0060 - accuracy: 0.9972 - val_loss: 0.7029 - val_accuracy: 0.7511\n",
      "Epoch 14/50\n",
      "96/96 [==============================] - 5s 50ms/step - loss: 0.0050 - accuracy: 0.9972 - val_loss: 0.6987 - val_accuracy: 0.7466\n",
      "Epoch 15/50\n",
      "96/96 [==============================] - 5s 47ms/step - loss: 0.0048 - accuracy: 0.9979 - val_loss: 0.7106 - val_accuracy: 0.7492\n",
      "Epoch 16/50\n",
      "96/96 [==============================] - 5s 49ms/step - loss: 0.0052 - accuracy: 0.9972 - val_loss: 0.7060 - val_accuracy: 0.7426\n",
      "Epoch 17/50\n",
      "96/96 [==============================] - 5s 48ms/step - loss: 0.0050 - accuracy: 0.9979 - val_loss: 0.7063 - val_accuracy: 0.7472\n",
      "Epoch 18/50\n",
      "96/96 [==============================] - 5s 47ms/step - loss: 0.0054 - accuracy: 0.9975 - val_loss: 0.7083 - val_accuracy: 0.7439\n",
      "Epoch 19/50\n",
      "96/96 [==============================] - 5s 47ms/step - loss: 0.0049 - accuracy: 0.9977 - val_loss: 0.7127 - val_accuracy: 0.7485\n",
      "Epoch 20/50\n",
      "96/96 [==============================] - 5s 47ms/step - loss: 0.0047 - accuracy: 0.9974 - val_loss: 0.7124 - val_accuracy: 0.7492\n",
      "Epoch 21/50\n",
      "96/96 [==============================] - 5s 48ms/step - loss: 0.0048 - accuracy: 0.9972 - val_loss: 0.7134 - val_accuracy: 0.7466\n",
      "Epoch 22/50\n",
      "96/96 [==============================] - 5s 48ms/step - loss: 0.0047 - accuracy: 0.9979 - val_loss: 0.7410 - val_accuracy: 0.7498\n",
      "Epoch 23/50\n",
      "96/96 [==============================] - 4s 47ms/step - loss: 0.0045 - accuracy: 0.9977 - val_loss: 0.7442 - val_accuracy: 0.7209\n",
      "Epoch 24/50\n",
      "96/96 [==============================] - 4s 46ms/step - loss: 0.0050 - accuracy: 0.9974 - val_loss: 0.7223 - val_accuracy: 0.7466\n",
      "Epoch 25/50\n",
      "96/96 [==============================] - 4s 47ms/step - loss: 0.0052 - accuracy: 0.9970 - val_loss: 0.7254 - val_accuracy: 0.7479\n",
      "Epoch 26/50\n",
      "96/96 [==============================] - 4s 46ms/step - loss: 0.0051 - accuracy: 0.9972 - val_loss: 0.7256 - val_accuracy: 0.7498\n",
      "Epoch 27/50\n",
      "96/96 [==============================] - 5s 52ms/step - loss: 0.0046 - accuracy: 0.9975 - val_loss: 0.7479 - val_accuracy: 0.7511\n",
      "Epoch 28/50\n",
      "96/96 [==============================] - 5s 49ms/step - loss: 0.0051 - accuracy: 0.9974 - val_loss: 0.7337 - val_accuracy: 0.7426\n",
      "Epoch 29/50\n",
      "96/96 [==============================] - 5s 48ms/step - loss: 0.0047 - accuracy: 0.9980 - val_loss: 0.7387 - val_accuracy: 0.7466\n",
      "Epoch 30/50\n",
      "96/96 [==============================] - 4s 47ms/step - loss: 0.0050 - accuracy: 0.9974 - val_loss: 0.7441 - val_accuracy: 0.7446\n",
      "Epoch 31/50\n",
      "96/96 [==============================] - 4s 47ms/step - loss: 0.0048 - accuracy: 0.9975 - val_loss: 0.7369 - val_accuracy: 0.7492\n",
      "Epoch 32/50\n",
      "96/96 [==============================] - 5s 48ms/step - loss: 0.0052 - accuracy: 0.9972 - val_loss: 0.7367 - val_accuracy: 0.7472\n",
      "Epoch 33/50\n",
      "96/96 [==============================] - 4s 46ms/step - loss: 0.0049 - accuracy: 0.9972 - val_loss: 0.7431 - val_accuracy: 0.7452\n",
      "Epoch 34/50\n",
      "96/96 [==============================] - 4s 47ms/step - loss: 0.0047 - accuracy: 0.9980 - val_loss: 0.7419 - val_accuracy: 0.7485\n",
      "Epoch 35/50\n",
      "96/96 [==============================] - 4s 46ms/step - loss: 0.0052 - accuracy: 0.9972 - val_loss: 0.7684 - val_accuracy: 0.7452\n",
      "Epoch 36/50\n",
      "96/96 [==============================] - 5s 47ms/step - loss: 0.0047 - accuracy: 0.9979 - val_loss: 0.7446 - val_accuracy: 0.7446\n",
      "Epoch 37/50\n",
      "96/96 [==============================] - 4s 46ms/step - loss: 0.0049 - accuracy: 0.9975 - val_loss: 0.7597 - val_accuracy: 0.7479\n",
      "Epoch 38/50\n",
      "96/96 [==============================] - 4s 46ms/step - loss: 0.0051 - accuracy: 0.9979 - val_loss: 0.7616 - val_accuracy: 0.7479\n",
      "Epoch 39/50\n",
      "96/96 [==============================] - 5s 47ms/step - loss: 0.0049 - accuracy: 0.9974 - val_loss: 0.7501 - val_accuracy: 0.7466\n",
      "Epoch 40/50\n",
      "96/96 [==============================] - 5s 48ms/step - loss: 0.0047 - accuracy: 0.9975 - val_loss: 0.7520 - val_accuracy: 0.7459\n",
      "Epoch 41/50\n",
      "96/96 [==============================] - 4s 46ms/step - loss: 0.0049 - accuracy: 0.9977 - val_loss: 0.7546 - val_accuracy: 0.7452\n",
      "Epoch 42/50\n",
      "96/96 [==============================] - 5s 48ms/step - loss: 0.0047 - accuracy: 0.9977 - val_loss: 0.7559 - val_accuracy: 0.7459\n",
      "Epoch 43/50\n",
      "96/96 [==============================] - 5s 49ms/step - loss: 0.0045 - accuracy: 0.9980 - val_loss: 0.7567 - val_accuracy: 0.7439\n",
      "Epoch 44/50\n",
      "96/96 [==============================] - 4s 46ms/step - loss: 0.0046 - accuracy: 0.9977 - val_loss: 0.7596 - val_accuracy: 0.7459\n",
      "Epoch 45/50\n",
      "96/96 [==============================] - 4s 47ms/step - loss: 0.0048 - accuracy: 0.9979 - val_loss: 0.7750 - val_accuracy: 0.7472\n",
      "Epoch 46/50\n",
      "96/96 [==============================] - 5s 48ms/step - loss: 0.0046 - accuracy: 0.9977 - val_loss: 0.7743 - val_accuracy: 0.7315\n",
      "Epoch 47/50\n",
      "96/96 [==============================] - 4s 46ms/step - loss: 0.0051 - accuracy: 0.9975 - val_loss: 0.7634 - val_accuracy: 0.7439\n",
      "Epoch 48/50\n",
      "96/96 [==============================] - 4s 46ms/step - loss: 0.0047 - accuracy: 0.9977 - val_loss: 0.7666 - val_accuracy: 0.7439\n",
      "Epoch 49/50\n",
      "96/96 [==============================] - 5s 47ms/step - loss: 0.0046 - accuracy: 0.9975 - val_loss: 0.7696 - val_accuracy: 0.7426\n",
      "Epoch 50/50\n",
      "96/96 [==============================] - 4s 47ms/step - loss: 0.0046 - accuracy: 0.9977 - val_loss: 0.7803 - val_accuracy: 0.7492\n",
      "Training Accuracy: 0.9982\n",
      "Testing Accuracy:  0.7492\n"
     ]
    },
    {
     "data": {
      "image/png": "[encoded data removed]",
      "text/plain": [
       "<Figure size 1200x500 with 2 Axes>"
      ]
     },
     "metadata": {},
     "output_type": "display_data"
    }
   ],
   "source": [
    "history=keras_model.fit(X_train, y_train, epochs=50, batch_size=64, validation_data=(X_valid, y_valid))\n",
    "loss, accuracy = keras_model.evaluate(X_train, y_train, verbose=False)\n",
    "print(\"Training Accuracy: {:.4f}\".format(accuracy))\n",
    "loss, accuracy = keras_model.evaluate(X_valid, y_valid, verbose=False)\n",
    "print(\"Testing Accuracy:  {:.4f}\".format(accuracy))\n",
    "plot_history(history)"
   ]
  },
  {
   "attachments": {},
   "cell_type": "markdown",
   "metadata": {},
   "source": [
    "## Predict"
   ]
  },
  {
   "cell_type": "code",
   "execution_count": 369,
   "metadata": {},
   "outputs": [],
   "source": [
    "X_test=new_test_data['text']\n",
    "X_id=new_test_data['id']"
   ]
  },
  {
   "cell_type": "code",
   "execution_count": 370,
   "metadata": {},
   "outputs": [],
   "source": [
    "max_length = 100\n",
    "X_test = tokenizer.texts_to_sequences(X_test)\n",
    "X_test = pad_sequences(X_test, maxlen=max_length, padding='post')"
   ]
  },
  {
   "cell_type": "code",
   "execution_count": 382,
   "metadata": {},
   "outputs": [],
   "source": [
    "result_test={\n",
    "    'id':[],\n",
    "    'target':[]\n",
    "}"
   ]
  },
  {
   "cell_type": "code",
   "execution_count": 385,
   "metadata": {},
   "outputs": [
    {
     "name": "stdout",
     "output_type": "stream",
     "text": [
      "102/102 [==============================] - 0s 2ms/step\n"
     ]
    }
   ],
   "source": [
    "result=keras_model.predict(X_test)\n",
    "for i in range(len(result)):\n",
    "    if result[i]>0.5:\n",
    "        result_test['target'].append(1)\n",
    "        result_test['id'].append(X_id[i])\n",
    "    else:\n",
    "        result_test['target'].append(0)\n",
    "        result_test['id'].append(X_id[i])"
   ]
  },
  {
   "cell_type": "code",
   "execution_count": 387,
   "metadata": {},
   "outputs": [],
   "source": [
    "df=pd.DataFrame(result_test)"
   ]
  },
  {
   "cell_type": "code",
   "execution_count": 389,
   "metadata": {},
   "outputs": [],
   "source": [
    "df.to_csv(\"result2.csv\",index=False)"
   ]
  }
 ],
 "metadata": {
  "kernelspec": {
   "display_name": "Python 3",
   "language": "python",
   "name": "python3"
  },
  "language_info": {
   "codemirror_mode": {
    "name": "ipython",
    "version": 3
   },
   "file_extension": ".py",
   "mimetype": "text/x-python",
   "name": "python",
   "nbconvert_exporter": "python",
   "pygments_lexer": "ipython3",
   "version": "3.10.5"
  },
  "orig_nbformat": 4
 },
 "nbformat": 4,
 "nbformat_minor": 2
}
